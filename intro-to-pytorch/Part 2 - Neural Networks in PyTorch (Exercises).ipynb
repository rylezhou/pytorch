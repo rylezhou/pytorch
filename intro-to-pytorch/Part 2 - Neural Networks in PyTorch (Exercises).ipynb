{
 "cells": [
  {
   "cell_type": "markdown",
   "metadata": {},
   "source": [
    "# Neural networks with PyTorch\n",
    "\n",
    "Deep learning networks tend to be massive with dozens or hundreds of layers, that's where the term \"deep\" comes from. You can build one of these deep networks using only weight matrices as we did in the previous notebook, but in general it's very cumbersome and difficult to implement. PyTorch has a nice module `nn` that provides a nice way to efficiently build large neural networks."
   ]
  },
  {
   "cell_type": "code",
   "execution_count": 1,
   "metadata": {},
   "outputs": [],
   "source": [
    "# Import necessary packages\n",
    "\n",
    "%matplotlib inline\n",
    "%config InlineBackend.figure_format = 'retina'\n",
    "\n",
    "import numpy as np\n",
    "import torch\n",
    "\n",
    "import helper\n",
    "\n",
    "import matplotlib.pyplot as plt"
   ]
  },
  {
   "cell_type": "markdown",
   "metadata": {},
   "source": [
    "\n",
    "Now we're going to build a larger network that can solve a (formerly) difficult problem, identifying text in an image. Here we'll use the MNIST dataset which consists of greyscale handwritten digits. Each image is 28x28 pixels, you can see a sample below\n",
    "\n",
    "<img src='assets/mnist.png'>\n",
    "\n",
    "Our goal is to build a neural network that can take one of these images and predict the digit in the image.\n",
    "\n",
    "First up, we need to get our dataset. This is provided through the `torchvision` package. The code below will download the MNIST dataset, then create training and test datasets for us. Don't worry too much about the details here, you'll learn more about this later."
   ]
  },
  {
   "cell_type": "code",
   "execution_count": 2,
   "metadata": {},
   "outputs": [],
   "source": [
    "### Run this cell\n",
    "\n",
    "from torchvision import datasets, transforms\n",
    "\n",
    "# Define a transform to normalize the data\n",
    "transform = transforms.Compose([transforms.ToTensor(),\n",
    "                              transforms.Normalize((0.5,), (0.5,)),\n",
    "                              ])\n",
    "\n",
    "# Download and load the training data\n",
    "trainset = datasets.MNIST('~/.pytorch/MNIST_data/', download=True, train=True, transform=transform)\n",
    "trainloader = torch.utils.data.DataLoader(trainset, batch_size=64, shuffle=True)"
   ]
  },
  {
   "cell_type": "markdown",
   "metadata": {},
   "source": [
    "We have the training data loaded into `trainloader` and we make that an iterator with `iter(trainloader)`. Later, we'll use this to loop through the dataset for training, like\n",
    "\n",
    "```python\n",
    "for image, label in trainloader:\n",
    "    ## do things with images and labels\n",
    "```\n",
    "\n",
    "You'll notice I created the `trainloader` with a batch size of 64, and `shuffle=True`. The batch size is the number of images we get in one iteration from the data loader and pass through our network, often called a *batch*. And `shuffle=True` tells it to shuffle the dataset every time we start going through the data loader again. But here I'm just grabbing the first batch so we can check out the data. We can see below that `images` is just a tensor with size `(64, 1, 28, 28)`. So, 64 images per batch, 1 color channel, and 28x28 images."
   ]
  },
  {
   "cell_type": "code",
   "execution_count": 3,
   "metadata": {},
   "outputs": [
    {
     "name": "stdout",
     "output_type": "stream",
     "text": [
      "<class 'torch.Tensor'>\n",
      "torch.Size([64, 1, 28, 28])\n",
      "torch.Size([64])\n"
     ]
    }
   ],
   "source": [
    "dataiter = iter(trainloader)\n",
    "images, labels = dataiter.next()\n",
    "print(type(images))\n",
    "print(images.shape)\n",
    "print(labels.shape)"
   ]
  },
  {
   "cell_type": "markdown",
   "metadata": {},
   "source": [
    "This is what one of the images looks like. "
   ]
  },
  {
   "cell_type": "code",
   "execution_count": 4,
   "metadata": {},
   "outputs": [
    {
     "data": {
      "image/png": "[encoded data removed]",
      "text/plain": [
       "<Figure size 432x288 with 1 Axes>"
      ]
     },
     "metadata": {
      "image/png": {
       "height": 250,
       "width": 253
      },
      "needs_background": "light"
     },
     "output_type": "display_data"
    }
   ],
   "source": [
    "plt.imshow(images[1].numpy().squeeze(), cmap='Greys_r');"
   ]
  },
  {
   "cell_type": "code",
   "execution_count": 5,
   "metadata": {},
   "outputs": [
    {
     "data": {
      "image/png": "[encoded data removed]",
      "text/plain": [
       "<Figure size 432x288 with 1 Axes>"
      ]
     },
     "metadata": {
      "image/png": {
       "height": 250,
       "width": 253
      },
      "needs_background": "light"
     },
     "output_type": "display_data"
    }
   ],
   "source": [
    "plt.imshow(images[23].numpy().squeeze(), cmap='Greys_r');"
   ]
  },
  {
   "cell_type": "markdown",
   "metadata": {},
   "source": [
    "First, let's try to build a simple network for this dataset using weight matrices and matrix multiplications. Then, we'll see how to do it using PyTorch's `nn` module which provides a much more convenient and powerful method for defining network architectures.\n",
    "\n",
    "The networks you've seen so far are called *fully-connected* or *dense* networks. Each unit in one layer is connected to each unit in the next layer. In fully-connected networks, the input to each layer must be a one-dimensional vector (which can be stacked into a 2D tensor as a batch of multiple examples). However, our images are 28x28 2D tensors, so we need to convert them into 1D vectors. Thinking about sizes, we need to convert the batch of images with shape `(64, 1, 28, 28)` to a have a shape of `(64, 784)`, 784 is 28 times 28. This is typically called *flattening*, we flattened the 2D images into 1D vectors.\n",
    "\n",
    "What is the meaning of parameter -1?\n",
    "If there is any situation that you don't know how many rows you want but are sure of the number of columns, then you can specify this with a -1. (Note that you can extend this to tensors with more dimensions. Only one of the axis value can be -1). This is a way of telling the library: \"give me a tensor that has these many columns and you compute the appropriate number of rows that is necessary to make this happen\".\n",
    "\n",
    "\n",
    "Previously you built a network with one output unit. Here we need 10 output units, one for each digit. We want our network to predict the digit shown in an image, so what we'll do is calculate probabilities that the image is of any one digit or class. This ends up being a discrete probability distribution over the classes (digits) that tells us the most likely class for the image. That means we need 10 output units for the 10 classes (digits). We'll see how to convert the network output into a probability distribution next.\n",
    "\n",
    "\n",
    "> **Exercise:** Flatten the batch of images `images`. Then build a multi-layer network with 784 input units, 256 hidden units, and 10 output units using random tensors for the weights and biases. For now, use a sigmoid activation for the hidden layer. Leave the output layer without an activation, we'll add one that gives us a probability distribution next."
   ]
  },
  {
   "cell_type": "code",
   "execution_count": 6,
   "metadata": {},
   "outputs": [
    {
     "name": "stdout",
     "output_type": "stream",
     "text": [
      "64\n",
      "tensor([[-1., -1., -1.,  ..., -1., -1., -1.],\n",
      "        [-1., -1., -1.,  ..., -1., -1., -1.],\n",
      "        [-1., -1., -1.,  ..., -1., -1., -1.],\n",
      "        ...,\n",
      "        [-1., -1., -1.,  ..., -1., -1., -1.],\n",
      "        [-1., -1., -1.,  ..., -1., -1., -1.],\n",
      "        [-1., -1., -1.,  ..., -1., -1., -1.]])\n",
      "torch.Size([64, 784])\n",
      "torch.Size([64, 10])\n",
      "tensor([[ -0.1047,  -8.0118,  13.9995,   8.8585,   7.2043, -13.9352,  -7.2961,\n",
      "          -4.6885,  -3.1528,  -6.8167],\n",
      "        [ -0.7598,   1.5200,   8.9636,   2.5523,   8.1832,  -6.2009,  -0.3040,\n",
      "         -14.5208,  -5.8053,  10.3770],\n",
      "        [ -4.2483,  -3.8114,  20.6853,   1.5617,   7.1433,   0.2886,   3.2820,\n",
      "         -25.4750,  -3.3869,   7.1936],\n",
      "        [ -8.0907,  -6.0510,  11.2173,   9.2439,  12.8148,  -6.4030,   7.7758,\n",
      "         -14.0895, -14.8780,  -0.2568],\n",
      "        [ -5.0802,   0.6383,  14.5595,   5.1211,   9.1105, -12.6306,   6.3711,\n",
      "         -16.9125,  -7.4442,  -2.2030],\n",
      "        [  0.1992,   1.2709,  15.6611,  -1.3044,   4.2171,  -4.7452,   5.9144,\n",
      "         -25.7505,  -7.0066,   9.2627],\n",
      "        [ -5.2982,   1.7162,   8.4731,   4.5753,  11.4959,  -6.0206,  11.9845,\n",
      "         -28.3936,  -6.0238,  11.9404],\n",
      "        [ -2.7199,  -5.9579,  11.1369,   9.0367,  10.2190,  -8.3339,   5.7983,\n",
      "         -17.1148,  -6.2043,   0.8337],\n",
      "        [  1.1228, -13.1548,   8.7730,   3.9866,  10.7684,  -2.8136,   4.8932,\n",
      "         -17.3603,  -3.1969,   4.6029],\n",
      "        [ -0.5284,  -4.9928,   9.3850,   8.3112,  17.3517,  -4.3472,   7.8800,\n",
      "         -14.3554,  -8.8901,  -4.3688],\n",
      "        [ -1.3736,  -6.4850,  18.1005,   3.3587,  -1.0162,  -7.2681,  -6.0337,\n",
      "         -14.6067, -13.3215,   8.3064],\n",
      "        [ -1.9366,  -1.1029,   9.3047,   9.8836,  17.4295, -13.6236,   9.1224,\n",
      "         -10.0718, -10.5740,  -1.9333],\n",
      "        [  1.7372,  -2.1644,   7.9686,   4.9826,  17.9260,   5.2586,   6.6297,\n",
      "         -14.9015,  -5.7452,   5.5222],\n",
      "        [ -1.4614,  -8.0007,   7.1565,   5.4072,  11.6880,   1.0239,  10.7259,\n",
      "         -26.4862,  -1.7787,   1.9254],\n",
      "        [  4.1279,  -4.8915,  17.5811,   4.8958,  16.2775, -14.0052,   2.9647,\n",
      "         -19.0548,  -6.0381,   3.8710],\n",
      "        [ -4.2502,  -2.0521,   7.6031,   7.3544,   6.4732,   3.6722,  10.4795,\n",
      "         -18.2130, -14.3433,   3.8959],\n",
      "        [ -6.8913,  -1.0467,   9.5063,   9.6535,   2.8350, -11.2116,  -5.1078,\n",
      "         -20.1140,  -2.5430,   8.3235],\n",
      "        [  0.6545,  -6.1014,  13.5884,   3.9831,   3.1541,  -4.7293, -10.2138,\n",
      "         -19.6397,  -2.9583,   2.7219],\n",
      "        [ -5.2275, -14.4039,  15.9057,   5.7134,  11.5713, -12.4121,   6.2602,\n",
      "         -16.8746,  -6.0999,   3.1264],\n",
      "        [ -9.3085,  -6.9754,   6.0196,  13.5201,   9.1840,  -2.4241,   3.1423,\n",
      "         -12.1869, -14.6406,   2.8842],\n",
      "        [-11.0879,  -8.3748,  12.4120,  10.2752,   8.6834, -17.9696,  -1.5564,\n",
      "         -12.4946, -13.3360,   4.7223],\n",
      "        [  2.4147,  -3.4742,  -1.3233,   5.1289,  10.8311,  -2.3850,   9.1517,\n",
      "         -10.7173, -12.1993,   6.5631],\n",
      "        [ -4.9399,  -6.8449,   4.9146,   9.3412,  16.6297, -12.2554,   8.2561,\n",
      "         -19.9177,  -9.5348,   5.8454],\n",
      "        [  2.5043,   5.2433,  19.6606,  -5.8368,   6.7152,  -1.9238,   8.6282,\n",
      "         -23.6390,  -0.7402,   7.7837],\n",
      "        [ -4.0265,  -0.5638,  12.3856,  10.2943,   9.8785, -11.5783,  12.2560,\n",
      "         -24.0589, -14.5184,   6.1627],\n",
      "        [  0.0663,  -4.1686,   9.3640,  13.0881,   7.3664,  -4.1245,  10.8840,\n",
      "          -8.1642,  -2.8446,  -4.8567],\n",
      "        [ -5.1492,   3.5517,   8.3769,   7.8243,   8.6221,  -6.2177,  -0.6824,\n",
      "          -6.4334, -10.4959,   9.0704],\n",
      "        [ -0.4440,   1.4440,  13.0512,  14.2581,  11.1994, -10.5648,  -2.5468,\n",
      "         -13.2058,   0.6481,  -1.8304],\n",
      "        [ -8.1077,  -6.5991,   2.9644,  14.7885,   9.4185,   0.8762,   5.5452,\n",
      "         -15.4377, -12.7755,   2.1586],\n",
      "        [ -0.8456,  -8.9369,   4.5081,   2.6466,   6.2754,  -6.3314,   2.3443,\n",
      "         -26.2169, -13.4168,   6.4424],\n",
      "        [ -6.3424,   6.6663,   5.7722,   7.8496,   6.8223, -14.0981,   0.3607,\n",
      "         -16.3016,  -7.5686,   3.4639],\n",
      "        [ -9.0415, -11.3438,   5.8343,   8.7068,  15.2247,  -9.5087,  -0.7487,\n",
      "          -9.7010, -12.1707,  -0.7140],\n",
      "        [ -2.0491,  -1.6968,  12.6956,   4.9884,   7.1944,  -3.6434,   9.2448,\n",
      "         -13.9635, -11.8691,   2.2963],\n",
      "        [ -0.6020,  -0.8531,   4.0713,   8.5122,  16.1276, -12.8337,  -2.8907,\n",
      "         -11.7976,  -5.2806,   3.9858],\n",
      "        [  2.6152,  -4.6494,   9.1731,  10.4874,   8.1355,  -7.2659,  -2.4698,\n",
      "         -19.1836,  -4.6985,  -2.9735],\n",
      "        [ -4.4466,  -7.2312,   7.4085,  20.2016,  11.7618, -12.5650,  -0.6004,\n",
      "         -19.5404,   1.3165,  -2.6690],\n",
      "        [  1.0214,  -3.9173,   6.4721,   9.5024,   4.4842, -13.5043,   9.1779,\n",
      "         -20.6879,  -7.1718,   3.8460],\n",
      "        [  4.7940,   0.2912,   8.7070,  13.5500,  -0.8934,   0.9863,  -0.8681,\n",
      "         -15.7190, -15.6916,  -1.7387],\n",
      "        [ -6.9069,  -6.6542,  10.9351,  12.1928,  11.8352,  -5.7787,   1.7007,\n",
      "         -11.7117, -14.6964,  -2.9820],\n",
      "        [ -2.6565,  -1.8228,  16.8021,   2.3411,   6.3530, -14.1746,   1.6887,\n",
      "         -21.3870,  -9.0852,   6.6451],\n",
      "        [-10.0979,  -1.2393,  19.2314,  10.9545,   1.8886,  -7.1405,   6.8267,\n",
      "         -14.1721,  -6.3100,  -0.8637],\n",
      "        [ -8.1359,  -2.6730,   8.5319,   3.5830,  13.3641, -19.5497,   3.7225,\n",
      "         -15.4024,  -0.3067,   1.7258],\n",
      "        [ -2.3353,  -1.0690,   2.4635,  10.7629,  10.9493,  -5.1711,  -6.3161,\n",
      "          -4.3071, -12.8338,  -0.1437],\n",
      "        [  3.4861,  -6.2327,   1.6940,  -2.0052,   4.0064, -12.9755,  -5.5272,\n",
      "         -21.2066, -11.2048,  -0.8342],\n",
      "        [  2.5492,  -9.2466,  10.4061,   2.8466,   4.8290,  -5.5248,   6.4901,\n",
      "         -19.2258,  -6.0912,  -2.6790],\n",
      "        [-11.2670,  -7.3324,  13.8161,  10.1268,  12.6832, -16.1028,  -6.7980,\n",
      "          -7.3948,  -9.5610,   7.5457],\n",
      "        [ -4.9285,   2.5547,   4.1793,  11.7198,   5.4501,  -9.4985,  -0.0612,\n",
      "         -22.5908,  -2.0720,  -5.0172],\n",
      "        [ -2.5087,  -4.3040,  15.2866,   5.7049,  13.4565,  -7.4096,  16.7380,\n",
      "         -17.2222,  -9.0036,   2.7957],\n",
      "        [ -5.1453,  -5.0743,   6.2984,  15.3873,   8.6347,  -8.0925,   9.6237,\n",
      "         -12.6896,  -9.0854,  -0.8584],\n",
      "        [ -6.1391,  -1.9989,   3.2363,  14.8668,  12.2071,   1.0590,  10.4097,\n",
      "         -18.5162, -12.9135,  -1.6902],\n",
      "        [  4.1386,   0.4137,  10.7225,   7.5967,   7.2595,  -4.2844,  11.3460,\n",
      "         -13.3477,  -6.7743,   2.0958],\n",
      "        [ -4.7068,  -2.7273,   6.1726,  -1.1763,   7.0322,  -8.6044,   5.7278,\n",
      "         -10.1438, -10.4672,   2.1245],\n",
      "        [ -5.8540, -10.9014,   5.7353,  11.8535,   4.2551, -16.8397,  -0.8766,\n",
      "         -21.1784,  -7.3955,   7.6772],\n",
      "        [ -3.8651, -11.0927,  13.2517,   8.5401,  10.8839,  -5.7470,   0.9016,\n",
      "         -15.7385,  -8.7976,   0.3028],\n",
      "        [ -6.5221,  -6.0809,  11.0804,  14.7809,   6.9214, -13.6257,  -5.7774,\n",
      "         -12.1412,  -3.8157,   1.2357],\n",
      "        [ -7.3483,  -4.4553,   7.4007,   3.6689,   2.2856, -15.1952,   7.1370,\n",
      "         -15.1279,  -7.0296,   1.7143],\n",
      "        [ -5.5021,  -3.9248,   8.6250,  19.6856,  15.5835, -16.4974,   7.2918,\n",
      "         -18.4229,  -6.0123,  -0.3100],\n",
      "        [ -4.9774,  -6.3513,   3.5672,  11.2750,  14.8462,  -8.0950,   1.4480,\n",
      "         -14.6975, -15.0012,  -0.6214],\n",
      "        [ -3.0489,  -2.9365,   0.7538,  15.9452,  10.3166,  -2.6748,   3.5378,\n",
      "         -13.4453,  -6.7275,  -2.1238],\n",
      "        [ -8.8582,  -7.8745,   0.5786,  13.8290,  11.6136,  -3.2025,   3.0373,\n",
      "         -12.1866,  -8.1832,  -7.2280],\n",
      "        [-12.1162,  -5.7890,   4.4496,  11.4801,  11.6354,  -7.3430,   2.9815,\n",
      "          -9.4476,  -8.3709,  -4.8507],\n",
      "        [ -4.8321, -10.1537,   9.4186,   7.3794,   6.0890, -12.1164,   2.4174,\n",
      "         -17.0147,  -1.2412,  -8.0805],\n",
      "        [  7.4768,  -0.6033,  14.7595,  10.1986,  10.4365, -10.2469,   4.2744,\n",
      "         -19.3383,  -2.1800,  11.3952],\n",
      "        [  2.0959,  -6.9585,  10.7987,   1.8173,   5.0301, -10.2808,   6.2504,\n",
      "         -29.9906,  -1.8885,  13.7362]])\n"
     ]
    }
   ],
   "source": [
    "## Your solution\n",
    "\n",
    "#define activation\n",
    "def activation(x):\n",
    "    return 1/(1 + torch.exp(-x))\n",
    "\n",
    "#flatten images\n",
    "print(images.shape[0])\n",
    "input = images.view(images.shape[0],-1) ##(64, 784)\n",
    "print(input)\n",
    "print(input.shape)\n",
    "\n",
    "#parameters\n",
    "W1 = torch.randn(784, 256)\n",
    "B1 = torch.randn(256)\n",
    "\n",
    "W2 = torch.randn(256, 10)\n",
    "B2 = torch.randn(10)\n",
    "\n",
    "h = activation(torch.mm(input,W1) + B1)\n",
    "\n",
    "# output of your network, should have shape (64,10)\n",
    "out = torch.mm(h, W2) + B2\n",
    "print(out.shape)\n",
    "print(out)"
   ]
  },
  {
   "cell_type": "markdown",
   "metadata": {},
   "source": [
    "Now we have 10 outputs for our network. We want to pass in an image to our network and get out a probability distribution over the classes that tells us the likely class(es) the image belongs to. Something that looks like this:\n",
    "<img src='assets/image_distribution.png' width=500px>\n",
    "\n",
    "Here we see that the probability for each class is roughly the same. This is representing an untrained network, it hasn't seen any data yet so it just returns a uniform distribution with equal probabilities for each class.\n",
    "\n",
    "To calculate this probability distribution, we often use the [**softmax** function](https://en.wikipedia.org/wiki/Softmax_function). Mathematically this looks like\n",
    "\n",
    "$$\n",
    "\\Large \\sigma(x_i) = \\cfrac{e^{x_i}}{\\sum_k^K{e^{x_k}}}\n",
    "$$\n",
    "\n",
    "What this does is squish each input $x_i$ between 0 and 1 and normalizes the values to give you a proper probability distribution where the probabilites sum up to one.\n",
    "\n",
    "> **Exercise:** Implement a function `softmax` that performs the softmax calculation and returns probability distributions for each example in the batch. Note that you'll need to pay attention to the shapes when doing this. If you have a tensor `a` with shape `(64, 10)` and a tensor `b` with shape `(64,)`, doing `a/b` will give you an error because PyTorch will try to do the division across the columns (called broadcasting) but you'll get a size mismatch. The way to think about this is for each of the 64 examples, you only want to divide by one value, the sum in the denominator. So you need `b` to have a shape of `(64, 1)`. This way PyTorch will divide the 10 values in each row of `a` by the one value in each row of `b`. Pay attention to how you take the sum as well. You'll need to define the `dim` keyword in `torch.sum`. Setting `dim=0` takes the sum across the rows while `dim=1` takes the sum across the columns."
   ]
  },
  {
   "cell_type": "code",
   "execution_count": 7,
   "metadata": {},
   "outputs": [
    {
     "name": "stdout",
     "output_type": "stream",
     "text": [
      "torch.Size([64, 10])\n",
      "tensor([1.0000, 1.0000, 1.0000, 1.0000, 1.0000, 1.0000, 1.0000, 1.0000, 1.0000,\n",
      "        1.0000, 1.0000, 1.0000, 1.0000, 1.0000, 1.0000, 1.0000, 1.0000, 1.0000,\n",
      "        1.0000, 1.0000, 1.0000, 1.0000, 1.0000, 1.0000, 1.0000, 1.0000, 1.0000,\n",
      "        1.0000, 1.0000, 1.0000, 1.0000, 1.0000, 1.0000, 1.0000, 1.0000, 1.0000,\n",
      "        1.0000, 1.0000, 1.0000, 1.0000, 1.0000, 1.0000, 1.0000, 1.0000, 1.0000,\n",
      "        1.0000, 1.0000, 1.0000, 1.0000, 1.0000, 1.0000, 1.0000, 1.0000, 1.0000,\n",
      "        1.0000, 1.0000, 1.0000, 1.0000, 1.0000, 1.0000, 1.0000, 1.0000, 1.0000,\n",
      "        1.0000])\n"
     ]
    }
   ],
   "source": [
    "## TODO: Implement the softmax function here\n",
    "def softmax(x):\n",
    "    return torch.exp(x) / torch.sum(torch.exp(x), dim=1).view(-1,1)\n",
    "\n",
    "# Here, out should be the output of the network in the previous excercise with shape (64,10)\n",
    "probabilities = softmax(out)\n",
    "\n",
    "# Does it have the right shape? Should be (64, 10)\n",
    "print(probabilities.shape)\n",
    "# Does it sum to 1?\n",
    "print(probabilities.sum(dim=1))"
   ]
  },
  {
   "cell_type": "markdown",
   "metadata": {},
   "source": [
    "## Building networks with PyTorch\n",
    "\n",
    "PyTorch provides a module `nn` that makes building networks much simpler. Here I'll show you how to build the same one as above with 784 inputs, 256 hidden units, 10 output units and a softmax output."
   ]
  },
  {
   "cell_type": "code",
   "execution_count": 8,
   "metadata": {},
   "outputs": [],
   "source": [
    "from torch import nn"
   ]
  },
  {
   "cell_type": "code",
   "execution_count": 9,
   "metadata": {},
   "outputs": [],
   "source": [
    "class Network(nn.Module):\n",
    "    def __init__(self):\n",
    "        super().__init__()\n",
    "        \n",
    "        # Inputs to hidden layer linear transformation\n",
    "        self.hidden = nn.Linear(784, 256)\n",
    "        # Output layer, 10 units - one for each digit\n",
    "        self.output = nn.Linear(256, 10)\n",
    "        \n",
    "        # Define sigmoid activation and softmax output \n",
    "        self.sigmoid = nn.Sigmoid()\n",
    "        self.softmax = nn.Softmax(dim=1)\n",
    "        \n",
    "    def forward(self, x):\n",
    "        # Pass the input tensor through each of our operations\n",
    "        x = self.hidden(x)\n",
    "        x = self.sigmoid(x)\n",
    "        x = self.output(x)\n",
    "        x = self.softmax(x)\n",
    "        \n",
    "        return x"
   ]
  },
  {
   "cell_type": "markdown",
   "metadata": {},
   "source": [
    "Let's go through this bit by bit.\n",
    "\n",
    "```python\n",
    "class Network(nn.Module):\n",
    "```\n",
    "\n",
    "Here we're inheriting from `nn.Module`. Combined with `super().__init__()` this creates a class that tracks the architecture and provides a lot of useful methods and attributes. It is mandatory to inherit from `nn.Module` when you're creating a class for your network. The name of the class itself can be anything.\n",
    "\n",
    "```python\n",
    "self.hidden = nn.Linear(784, 256)\n",
    "```\n",
    "\n",
    "This line creates a module for a linear transformation, $x\\mathbf{W} + b$, with 784 inputs and 256 outputs and assigns it to `self.hidden`. The module automatically creates the weight and bias tensors which we'll use in the `forward` method. You can access the weight and bias tensors once the network (`net`) is created with `net.hidden.weight` and `net.hidden.bias`.\n",
    "\n",
    "```python\n",
    "self.output = nn.Linear(256, 10)\n",
    "```\n",
    "\n",
    "Similarly, this creates another linear transformation with 256 inputs and 10 outputs.\n",
    "\n",
    "```python\n",
    "self.sigmoid = nn.Sigmoid()\n",
    "self.softmax = nn.Softmax(dim=1)\n",
    "```\n",
    "\n",
    "Here I defined operations for the sigmoid activation and softmax output. Setting `dim=1` in `nn.Softmax(dim=1)` calculates softmax across the columns.\n",
    "\n",
    "```python\n",
    "def forward(self, x):\n",
    "```\n",
    "\n",
    "PyTorch networks created with `nn.Module` must have a `forward` method defined. It takes in a tensor `x` and passes it through the operations you defined in the `__init__` method.\n",
    "\n",
    "```python\n",
    "x = self.hidden(x)\n",
    "x = self.sigmoid(x)\n",
    "x = self.output(x)\n",
    "x = self.softmax(x)\n",
    "```\n",
    "\n",
    "Here the input tensor `x` is passed through each operation and reassigned to `x`. We can see that the input tensor goes through the hidden layer, then a sigmoid function, then the output layer, and finally the softmax function. It doesn't matter what you name the variables here, as long as the inputs and outputs of the operations match the network architecture you want to build. The order in which you define things in the `__init__` method doesn't matter, but you'll need to sequence the operations correctly in the `forward` method.\n",
    "\n",
    "Now we can create a `Network` object."
   ]
  },
  {
   "cell_type": "code",
   "execution_count": 10,
   "metadata": {},
   "outputs": [
    {
     "data": {
      "text/plain": [
       "Network(\n",
       "  (hidden): Linear(in_features=784, out_features=256, bias=True)\n",
       "  (output): Linear(in_features=256, out_features=10, bias=True)\n",
       "  (sigmoid): Sigmoid()\n",
       "  (softmax): Softmax()\n",
       ")"
      ]
     },
     "execution_count": 10,
     "metadata": {},
     "output_type": "execute_result"
    }
   ],
   "source": [
    "# Create the network and look at it's text representation\n",
    "model = Network()\n",
    "model"
   ]
  },
  {
   "cell_type": "markdown",
   "metadata": {},
   "source": [
    "You can define the network somewhat more concisely and clearly using the `torch.nn.functional` module. This is the most common way you'll see networks defined as many operations are simple element-wise functions. We normally import this module as `F`, `import torch.nn.functional as F`."
   ]
  },
  {
   "cell_type": "code",
   "execution_count": 11,
   "metadata": {},
   "outputs": [],
   "source": [
    "import torch.nn.functional as F\n",
    "\n",
    "class Network(nn.Module):\n",
    "    def __init__(self):\n",
    "        super().__init__()\n",
    "        # Inputs to hidden layer linear transformation\n",
    "        self.hidden = nn.Linear(784, 256)\n",
    "        # Output layer, 10 units - one for each digit\n",
    "        self.output = nn.Linear(256, 10)\n",
    "        \n",
    "    def forward(self, x):\n",
    "        # Hidden layer with sigmoid activation\n",
    "        x = F.sigmoid(self.hidden(x))\n",
    "        # Output layer with softmax activation\n",
    "        x = F.softmax(self.output(x), dim=1)\n",
    "        \n",
    "        return x"
   ]
  },
  {
   "cell_type": "markdown",
   "metadata": {},
   "source": [
    "### Activation functions\n",
    "\n",
    "So far we've only been looking at the softmax activation, but in general any function can be used as an activation function. The only requirement is that for a network to approximate a non-linear function, the activation functions must be non-linear. Here are a few more examples of common activation functions: Tanh (hyperbolic tangent), and ReLU (rectified linear unit).\n",
    "\n",
    "<img src=\"assets/activation.png\" width=700px>\n",
    "\n",
    "In practice, the ReLU function is used almost exclusively as the activation function for hidden layers."
   ]
  },
  {
   "cell_type": "markdown",
   "metadata": {},
   "source": [
    "### Your Turn to Build a Network\n",
    "\n",
    "<img src=\"assets/mlp_mnist.png\" width=600px>\n",
    "\n",
    "> **Exercise:** Create a network with 784 input units, a hidden layer with 128 units and a ReLU activation, then a hidden layer with 64 units and a ReLU activation, and finally an output layer with a softmax activation as shown above. You can use a ReLU activation with the `nn.ReLU` module or `F.relu` function.\n",
    "\n",
    "It's good practice to name your layers by their type of network, for instance 'fc' to represent a fully-connected layer. As you code your solution, use `fc1`, `fc2`, and `fc3` as your layer names."
   ]
  },
  {
   "cell_type": "code",
   "execution_count": 15,
   "metadata": {
    "scrolled": true
   },
   "outputs": [
    {
     "data": {
      "text/plain": [
       "Network(\n",
       "  (fc1): Linear(in_features=784, out_features=128, bias=True)\n",
       "  (fc2): Linear(in_features=128, out_features=64, bias=True)\n",
       "  (fc3): Linear(in_features=64, out_features=10, bias=True)\n",
       ")"
      ]
     },
     "execution_count": 15,
     "metadata": {},
     "output_type": "execute_result"
    }
   ],
   "source": [
    "## Your solution here\n",
    "\n",
    "#class init\n",
    "class Network(nn.Module):\n",
    "    def __init__(self):\n",
    "        super().__init__()\n",
    "        \n",
    "    #layers\n",
    "        self.fc1 = nn.Linear(784, 128)\n",
    "        self.fc2 = nn.Linear(128, 64)\n",
    "        self.fc3 = nn.Linear(64, 10)\n",
    "  \n",
    "    #activation & output   \n",
    "    def forward(self, x):\n",
    "        x = F.relu(self.fc1(x))\n",
    "        x = F.relu(self.fc2(x))\n",
    "        x = F.softmax(self.fc3(x), dim=1)\n",
    "        \n",
    "        return x\n",
    "\n",
    "#network object\n",
    "model = Network()\n",
    "model\n",
    "    "
   ]
  },
  {
   "cell_type": "markdown",
   "metadata": {},
   "source": [
    "### Initializing weights and biases\n",
    "\n",
    "The weights and such are automatically initialized for you, but it's possible to customize how they are initialized. The weights and biases are tensors attached to the layer you defined, you can get them with `model.fc1.weight` for instance."
   ]
  },
  {
   "cell_type": "code",
   "execution_count": 16,
   "metadata": {},
   "outputs": [
    {
     "name": "stdout",
     "output_type": "stream",
     "text": [
      "Parameter containing:\n",
      "tensor([[-0.0277,  0.0157, -0.0176,  ...,  0.0022, -0.0017,  0.0149],\n",
      "        [ 0.0034, -0.0189,  0.0087,  ..., -0.0325, -0.0207, -0.0108],\n",
      "        [ 0.0048, -0.0346,  0.0232,  ...,  0.0323, -0.0075,  0.0102],\n",
      "        ...,\n",
      "        [-0.0059,  0.0354,  0.0159,  ..., -0.0326, -0.0029,  0.0231],\n",
      "        [ 0.0213,  0.0004, -0.0191,  ...,  0.0156,  0.0056, -0.0061],\n",
      "        [ 0.0218,  0.0295,  0.0312,  ...,  0.0093,  0.0136,  0.0252]],\n",
      "       requires_grad=True)\n",
      "Parameter containing:\n",
      "tensor([ 1.6326e-02,  2.3617e-02, -4.1828e-03,  3.2338e-02,  1.3392e-02,\n",
      "         1.7254e-02, -1.0104e-02, -2.3839e-02,  2.0076e-02, -3.5583e-02,\n",
      "        -2.5998e-02,  2.1666e-02, -1.9389e-03,  2.9887e-03,  2.6665e-02,\n",
      "         1.7081e-02, -4.6601e-03,  4.1376e-03,  3.0686e-03, -1.5313e-02,\n",
      "         3.1655e-02,  2.5532e-02,  2.4033e-02,  7.3519e-03,  2.8133e-02,\n",
      "         3.4704e-02,  1.2209e-02, -1.8649e-02,  2.6940e-02, -5.2857e-03,\n",
      "         1.6654e-04,  6.6639e-03,  3.1404e-02,  3.3921e-02,  6.6310e-04,\n",
      "        -2.3821e-02, -1.2308e-02,  1.3260e-02,  1.3750e-02,  8.3597e-03,\n",
      "         2.1449e-02, -1.9753e-02, -2.4375e-02,  1.0264e-02,  2.2020e-02,\n",
      "         1.5512e-02,  7.9583e-05, -1.9188e-02, -5.7470e-03, -3.3659e-02,\n",
      "        -2.8283e-02,  3.3848e-02,  7.2464e-03,  9.2463e-03,  1.2502e-02,\n",
      "         5.0269e-03,  3.0218e-02,  1.6870e-02, -1.0651e-02, -3.5354e-02,\n",
      "         2.2140e-02, -1.9661e-02,  2.7298e-03, -1.2552e-02,  2.2290e-02,\n",
      "        -3.2232e-02,  2.7029e-02,  2.4832e-03,  6.5080e-03, -2.5420e-02,\n",
      "         9.5332e-03, -6.6315e-03,  4.3328e-03,  1.7985e-02, -3.3941e-02,\n",
      "         1.5916e-02, -2.9855e-02,  2.3029e-02, -1.7142e-03, -2.1342e-02,\n",
      "        -1.2261e-02, -3.4583e-02, -3.4434e-02,  1.4027e-02,  3.2435e-02,\n",
      "        -1.4862e-03,  2.2269e-02,  2.3217e-03,  3.7889e-03, -1.9743e-02,\n",
      "        -1.2358e-02, -2.7005e-02,  6.5074e-03,  1.0625e-03,  1.4642e-02,\n",
      "         1.7856e-02, -3.4509e-02,  2.5990e-02,  6.4388e-03,  3.3258e-02,\n",
      "        -1.2895e-02, -2.5729e-02, -3.4355e-02, -8.2782e-03, -2.6875e-02,\n",
      "        -8.9509e-03,  3.4585e-02,  8.2355e-03, -2.7159e-02, -2.7904e-02,\n",
      "        -2.0041e-02, -3.2719e-02, -2.3034e-02, -1.3212e-02, -6.7860e-03,\n",
      "         3.0622e-02,  9.9507e-03, -2.6922e-02,  2.7930e-02,  1.3649e-02,\n",
      "         1.4512e-03, -2.1577e-02,  1.2517e-02, -1.0079e-02, -9.0174e-03,\n",
      "         8.9445e-03, -1.5724e-03,  9.7092e-04], requires_grad=True)\n"
     ]
    }
   ],
   "source": [
    "print(model.fc1.weight)\n",
    "print(model.fc1.bias)"
   ]
  },
  {
   "cell_type": "markdown",
   "metadata": {},
   "source": [
    "For custom initialization, we want to modify these tensors in place. These are actually autograd *Variables*, so we need to get back the actual tensors with `model.fc1.weight.data`. Once we have the tensors, we can fill them with zeros (for biases) or random normal values."
   ]
  },
  {
   "cell_type": "code",
   "execution_count": 17,
   "metadata": {},
   "outputs": [
    {
     "data": {
      "text/plain": [
       "tensor([0., 0., 0., 0., 0., 0., 0., 0., 0., 0., 0., 0., 0., 0., 0., 0., 0., 0., 0., 0., 0., 0., 0., 0.,\n",
       "        0., 0., 0., 0., 0., 0., 0., 0., 0., 0., 0., 0., 0., 0., 0., 0., 0., 0., 0., 0., 0., 0., 0., 0.,\n",
       "        0., 0., 0., 0., 0., 0., 0., 0., 0., 0., 0., 0., 0., 0., 0., 0., 0., 0., 0., 0., 0., 0., 0., 0.,\n",
       "        0., 0., 0., 0., 0., 0., 0., 0., 0., 0., 0., 0., 0., 0., 0., 0., 0., 0., 0., 0., 0., 0., 0., 0.,\n",
       "        0., 0., 0., 0., 0., 0., 0., 0., 0., 0., 0., 0., 0., 0., 0., 0., 0., 0., 0., 0., 0., 0., 0., 0.,\n",
       "        0., 0., 0., 0., 0., 0., 0., 0.])"
      ]
     },
     "execution_count": 17,
     "metadata": {},
     "output_type": "execute_result"
    }
   ],
   "source": [
    "# Set biases to all zeros\n",
    "model.fc1.bias.data.fill_(0)"
   ]
  },
  {
   "cell_type": "code",
   "execution_count": 18,
   "metadata": {},
   "outputs": [
    {
     "data": {
      "text/plain": [
       "tensor([[ 7.9595e-03,  8.0379e-03, -1.4049e-02,  ..., -9.4360e-03,\n",
       "         -6.0013e-03, -5.1222e-03],\n",
       "        [ 2.0778e-02, -2.1231e-03,  6.2594e-05,  ...,  1.0187e-02,\n",
       "          1.4810e-02,  1.2571e-02],\n",
       "        [-1.7627e-03, -1.2782e-02,  6.0930e-03,  ..., -8.7897e-03,\n",
       "         -1.0901e-02,  7.0379e-03],\n",
       "        ...,\n",
       "        [-3.0434e-03,  1.0225e-04, -5.3698e-04,  ..., -3.0910e-04,\n",
       "          3.2275e-03,  3.1372e-03],\n",
       "        [ 2.5512e-02, -1.0982e-02, -3.8204e-03,  ..., -1.5278e-02,\n",
       "         -3.6965e-04, -6.7929e-03],\n",
       "        [ 4.0546e-03,  1.1439e-02,  8.7384e-03,  ...,  1.0621e-02,\n",
       "          3.8591e-03,  5.8150e-03]])"
      ]
     },
     "execution_count": 18,
     "metadata": {},
     "output_type": "execute_result"
    }
   ],
   "source": [
    "# sample from random normal with standard dev = 0.01\n",
    "model.fc1.weight.data.normal_(std=0.01)"
   ]
  },
  {
   "cell_type": "markdown",
   "metadata": {},
   "source": [
    "### Forward pass\n",
    "\n",
    "Now that we have a network, let's see what happens when we pass in an image."
   ]
  },
  {
   "cell_type": "code",
   "execution_count": 19,
   "metadata": {},
   "outputs": [
    {
     "data": {
      "image/png": "[encoded data removed]",
      "text/plain": [
       "<Figure size 432x648 with 2 Axes>"
      ]
     },
     "metadata": {
      "image/png": {
       "height": 226,
       "width": 423
      },
      "needs_background": "light"
     },
     "output_type": "display_data"
    }
   ],
   "source": [
    "# Grab some data \n",
    "dataiter = iter(trainloader)\n",
    "images, labels = dataiter.next()\n",
    "\n",
    "# Resize images into a 1D vector, new shape is (batch size, color channels, image pixels) \n",
    "images.resize_(64, 1, 784)\n",
    "# or images.resize_(images.shape[0], 1, 784) to automatically get batch size\n",
    "\n",
    "# Forward pass through the network\n",
    "img_idx = 0\n",
    "ps = model.forward(images[img_idx,:])\n",
    "\n",
    "img = images[img_idx]\n",
    "helper.view_classify(img.view(1, 28, 28), ps)"
   ]
  },
  {
   "cell_type": "markdown",
   "metadata": {},
   "source": [
    "As you can see above, our network has basically no idea what this digit is. It's because we haven't trained it yet, all the weights are random!\n",
    "\n",
    "### Using `nn.Sequential`\n",
    "\n",
    "PyTorch provides a convenient way to build networks like this where a tensor is passed sequentially through operations, `nn.Sequential` ([documentation](https://pytorch.org/docs/master/nn.html#torch.nn.Sequential)). Using this to build the equivalent network:"
   ]
  },
  {
   "cell_type": "code",
   "execution_count": 20,
   "metadata": {},
   "outputs": [
    {
     "name": "stdout",
     "output_type": "stream",
     "text": [
      "Sequential(\n",
      "  (0): Linear(in_features=784, out_features=128, bias=True)\n",
      "  (1): ReLU()\n",
      "  (2): Linear(in_features=128, out_features=64, bias=True)\n",
      "  (3): ReLU()\n",
      "  (4): Linear(in_features=64, out_features=10, bias=True)\n",
      "  (5): Softmax()\n",
      ")\n"
     ]
    },
    {
     "data": {
      "image/png": "[encoded data removed]",
      "text/plain": [
       "<Figure size 432x648 with 2 Axes>"
      ]
     },
     "metadata": {
      "image/png": {
       "height": 226,
       "width": 423
      },
      "needs_background": "light"
     },
     "output_type": "display_data"
    }
   ],
   "source": [
    "# Hyperparameters for our network\n",
    "input_size = 784\n",
    "hidden_sizes = [128, 64]\n",
    "output_size = 10\n",
    "\n",
    "# Build a feed-forward network\n",
    "model = nn.Sequential(nn.Linear(input_size, hidden_sizes[0]),\n",
    "                      nn.ReLU(),\n",
    "                      nn.Linear(hidden_sizes[0], hidden_sizes[1]),\n",
    "                      nn.ReLU(),\n",
    "                      nn.Linear(hidden_sizes[1], output_size),\n",
    "                      nn.Softmax(dim=1))\n",
    "print(model)\n",
    "\n",
    "# Forward pass through the network and display output\n",
    "images, labels = next(iter(trainloader))\n",
    "images.resize_(images.shape[0], 1, 784)\n",
    "ps = model.forward(images[0,:])\n",
    "helper.view_classify(images[0].view(1, 28, 28), ps)"
   ]
  },
  {
   "cell_type": "markdown",
   "metadata": {},
   "source": [
    "Here our model is the same as before: 784 input units, a hidden layer with 128 units, ReLU activation, 64 unit hidden layer, another ReLU, then the output layer with 10 units, and the softmax output.\n",
    "\n",
    "The operations are available by passing in the appropriate index. For example, if you want to get first Linear operation and look at the weights, you'd use `model[0]`."
   ]
  },
  {
   "cell_type": "code",
   "execution_count": 21,
   "metadata": {},
   "outputs": [
    {
     "name": "stdout",
     "output_type": "stream",
     "text": [
      "Linear(in_features=784, out_features=128, bias=True)\n"
     ]
    },
    {
     "data": {
      "text/plain": [
       "Parameter containing:\n",
       "tensor([[-0.0238, -0.0204, -0.0352,  ..., -0.0249,  0.0268,  0.0216],\n",
       "        [ 0.0314, -0.0192,  0.0346,  ..., -0.0123, -0.0290,  0.0328],\n",
       "        [-0.0036,  0.0112,  0.0007,  ..., -0.0242, -0.0258,  0.0135],\n",
       "        ...,\n",
       "        [-0.0258, -0.0252, -0.0030,  ..., -0.0247,  0.0321, -0.0228],\n",
       "        [-0.0034,  0.0033, -0.0070,  ..., -0.0323, -0.0272,  0.0112],\n",
       "        [-0.0021, -0.0085,  0.0216,  ..., -0.0247, -0.0316,  0.0278]],\n",
       "       requires_grad=True)"
      ]
     },
     "execution_count": 21,
     "metadata": {},
     "output_type": "execute_result"
    }
   ],
   "source": [
    "print(model[0])\n",
    "model[0].weight"
   ]
  },
  {
   "cell_type": "markdown",
   "metadata": {},
   "source": [
    "You can also pass in an `OrderedDict` to name the individual layers and operations, instead of using incremental integers. Note that dictionary keys must be unique, so _each operation must have a different name_."
   ]
  },
  {
   "cell_type": "code",
   "execution_count": 23,
   "metadata": {},
   "outputs": [
    {
     "data": {
      "text/plain": [
       "128"
      ]
     },
     "execution_count": 23,
     "metadata": {},
     "output_type": "execute_result"
    }
   ],
   "source": [
    "hidden_sizes[0]"
   ]
  },
  {
   "cell_type": "code",
   "execution_count": 22,
   "metadata": {},
   "outputs": [
    {
     "data": {
      "text/plain": [
       "Sequential(\n",
       "  (fc1): Linear(in_features=784, out_features=128, bias=True)\n",
       "  (relu1): ReLU()\n",
       "  (fc2): Linear(in_features=128, out_features=64, bias=True)\n",
       "  (relu2): ReLU()\n",
       "  (output): Linear(in_features=64, out_features=10, bias=True)\n",
       "  (softmax): Softmax()\n",
       ")"
      ]
     },
     "execution_count": 22,
     "metadata": {},
     "output_type": "execute_result"
    }
   ],
   "source": [
    "from collections import OrderedDict\n",
    "model = nn.Sequential(OrderedDict([\n",
    "                      ('fc1', nn.Linear(input_size, hidden_sizes[0])),\n",
    "                      ('relu1', nn.ReLU()),\n",
    "                      ('fc2', nn.Linear(hidden_sizes[0], hidden_sizes[1])),\n",
    "                      ('relu2', nn.ReLU()),\n",
    "                      ('output', nn.Linear(hidden_sizes[1], output_size)),\n",
    "                      ('softmax', nn.Softmax(dim=1))]))\n",
    "model"
   ]
  },
  {
   "cell_type": "markdown",
   "metadata": {},
   "source": [
    "Now you can access layers either by integer or the name"
   ]
  },
  {
   "cell_type": "code",
   "execution_count": 24,
   "metadata": {},
   "outputs": [
    {
     "name": "stdout",
     "output_type": "stream",
     "text": [
      "Linear(in_features=784, out_features=128, bias=True)\n",
      "Linear(in_features=784, out_features=128, bias=True)\n"
     ]
    }
   ],
   "source": [
    "print(model[0])\n",
    "print(model.fc1)"
   ]
  },
  {
   "cell_type": "markdown",
   "metadata": {},
   "source": [
    "In the next notebook, we'll see how we can train a neural network to accuractly predict the numbers appearing in the MNIST images."
   ]
  }
 ],
 "metadata": {
  "kernelspec": {
   "display_name": "Python 3",
   "language": "python",
   "name": "python3"
  },
  "language_info": {
   "codemirror_mode": {
    "name": "ipython",
    "version": 3
   },
   "file_extension": ".py",
   "mimetype": "text/x-python",
   "name": "python",
   "nbconvert_exporter": "python",
   "pygments_lexer": "ipython3",
   "version": "3.6.6"
  }
 },
 "nbformat": 4,
 "nbformat_minor": 2
}
